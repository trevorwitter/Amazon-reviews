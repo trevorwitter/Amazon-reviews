{
 "cells": [
  {
   "cell_type": "code",
   "execution_count": 1,
   "metadata": {
    "collapsed": true
   },
   "outputs": [],
   "source": [
    "%matplotlib inline\n",
    "import matplotlib\n",
    "import seaborn as sns\n",
    "matplotlib.rcParams['savefig.dpi'] = 144"
   ]
  },
  {
   "cell_type": "code",
   "execution_count": 55,
   "metadata": {
    "collapsed": true
   },
   "outputs": [],
   "source": [
    "from spacy.en import English\n",
    "nlp = English()"
   ]
  },
  {
   "cell_type": "code",
   "execution_count": 4,
   "metadata": {
    "collapsed": false
   },
   "outputs": [],
   "source": [
    "import gzip\n",
    "import ujson as json\n",
    "with gzip.open('/Volumes/LaCie/Datasets/Amazon Reviews/reviews_Books_5.json.gz') as f:\n",
    "    data = [json.loads(line) for line in f]"
   ]
  },
  {
   "cell_type": "code",
   "execution_count": 10,
   "metadata": {
    "collapsed": false
   },
   "outputs": [
    {
     "name": "stdout",
     "output_type": "stream",
     "text": [
      "{'unixReviewTime': 1307750400, 'reviewTime': '06 11, 2011', 'summary': 'Glad I read it at last', 'reviewerName': 'GVC', 'reviewText': \"I had noticed this book before but cast it aside thinking it was another book about the good work missionaries do in the underdeveloped world. How wrong I was.The Poisonwood Bible contains a strong message about all the negatives that can happen with missionary activity.The book tells the story of Nathan Price and his family and what happened when they went to spread the word in the Congo. Things went wrong from the start when arrogant  Pastor Nathan ( wrong person for the job and his church tried to tell him so ) arrived with a basket of seeds from plants native to North America. The Congolese apparently are so primitive they didn't know how to grow their own food. The plants failed in the Congo and Nathan began a difficult learning experience.The brilliance of the book comes from how it operates on so many levels. The story is told through the eyes of his wife and four daughters and each sees a different reality. It is set against a background of massive injustice inflicted on the Congo by the west ( Belgium and USA  in the case). The culpability of President Eisenhower I found particularly disturbing. Unfortunately similar stories can be told of elsewhere with other western countries equally guilty. I would strongly recommend Mr Pip by Lloyd Jones about New Guinea. An amazing book I enjoyed it immensely and read it very quickly despite its not inconsiderable length.\", 'asin': '0060175400', 'overall': 4.0, 'reviewerID': 'AASRB7AXRHKFB', 'helpful': [0, 0]}\n"
     ]
    }
   ],
   "source": [
    "print(data[68016])"
   ]
  },
  {
   "cell_type": "code",
   "execution_count": 11,
   "metadata": {
    "collapsed": true
   },
   "outputs": [],
   "source": [
    "ratings = [row['overall'] for row in data]"
   ]
  },
  {
   "cell_type": "code",
   "execution_count": 15,
   "metadata": {
    "collapsed": false
   },
   "outputs": [
    {
     "name": "stdout",
     "output_type": "stream",
     "text": [
      "[5.0, 3.0, 1.0, 5.0, 5.0, 5.0, 5.0, 5.0, 4.0, 4.0, 5.0, 5.0, 5.0, 5.0, 4.0, 5.0, 3.0, 5.0, 4.0, 5.0, 5.0, 1.0, 5.0, 2.0, 4.0, 4.0, 4.0, 2.0, 5.0, 4.0, 4.0, 5.0, 5.0, 2.0, 5.0, 4.0, 5.0, 5.0, 5.0, 4.0, 2.0, 4.0, 3.0, 5.0, 5.0, 5.0, 5.0, 4.0, 5.0, 5.0, 5.0, 5.0, 5.0, 5.0, 5.0, 5.0, 4.0, 5.0, 5.0, 5.0, 4.0, 5.0, 5.0, 5.0, 4.0, 4.0, 5.0, 5.0, 4.0, 5.0, 5.0, 4.0, 5.0, 5.0, 5.0, 3.0, 5.0, 5.0, 5.0, 5.0, 4.0, 5.0, 4.0, 5.0, 5.0, 5.0, 5.0, 4.0, 2.0, 4.0, 4.0, 4.0, 5.0, 4.0, 4.0, 5.0, 5.0, 3.0, 5.0, 5.0]\n"
     ]
    }
   ],
   "source": [
    "print(ratings[1050:1150])"
   ]
  },
  {
   "cell_type": "code",
   "execution_count": 20,
   "metadata": {
    "collapsed": true
   },
   "outputs": [],
   "source": [
    "from sklearn import base\n",
    "\n",
    "#Column selector\n",
    "class ColumnSelectTransformer(base.BaseEstimator, base.TransformerMixin):\n",
    "    def __init__(self, col_names):\n",
    "        self.col_names = col_names\n",
    "    def fit(self, X, y=None):\n",
    "        return self\n",
    "    def transform(self, X):\n",
    "        return [row['reviewText'] for row in X]"
   ]
  },
  {
   "cell_type": "code",
   "execution_count": 17,
   "metadata": {
    "collapsed": true
   },
   "outputs": [],
   "source": [
    "sample = [data[i] for i in range(len(data)) if i%20==0]\n",
    "sample_ratings = [ratings[j] for j in range(len(data)) if j%20==0]"
   ]
  },
  {
   "cell_type": "code",
   "execution_count": 27,
   "metadata": {
    "collapsed": false
   },
   "outputs": [
    {
     "data": {
      "text/plain": [
       "(8898041, 7118432, 1779609)"
      ]
     },
     "execution_count": 27,
     "metadata": {},
     "output_type": "execute_result"
    }
   ],
   "source": [
    "from sklearn.model_selection import train_test_split\n",
    "\n",
    "data_train, data_test, ratings_train, ratings_test = train_test_split(data, ratings, test_size=0.2, random_state=42)\n",
    "len(data), len(data_train), len(data_test)"
   ]
  },
  {
   "cell_type": "code",
   "execution_count": 35,
   "metadata": {
    "collapsed": false
   },
   "outputs": [
    {
     "data": {
      "text/plain": [
       "(444903, 355922, 88981)"
      ]
     },
     "execution_count": 35,
     "metadata": {},
     "output_type": "execute_result"
    }
   ],
   "source": [
    "sample_data_train, sample_data_test, sample_ratings_train, sample_ratings_test = train_test_split(sample, sample_ratings, test_size=0.2, random_state=42)\n",
    "len(sample), len(sample_data_train), len(sample_data_test)"
   ]
  },
  {
   "cell_type": "code",
   "execution_count": 36,
   "metadata": {
    "collapsed": false
   },
   "outputs": [
    {
     "name": "stdout",
     "output_type": "stream",
     "text": [
      "[\"The author explains most things very clearly.  I sometimes wish things were organized a little differently or introduced more explicitly for the sake of clarity.  Also, there are some errors that can make things confusing.  (Like an answer that doesn't match the question asked, or an incorrect formula here and there [The formula for carbonate on p 147 is incorrect.])  Mostly a helpful book, though, especially if used alongside actual class coursework.\", \"Very enjoyable! As a fifty shades fan I would recommend this. It has a much better storyline to it with more in-depth characters. I'm interested to see where the 3rd book will take us\", 'No issues at all with the purchase and or the delivery of the item. It has been enjoyed by the recipient. This is a great coffee table book and conversation starter for those mythology lovers in your life']\n"
     ]
    }
   ],
   "source": [
    "cst = ColumnSelectTransformer(['reviewText'])\n",
    "print(cst.fit_transform(sample_data_train[:3]))"
   ]
  },
  {
   "cell_type": "code",
   "execution_count": 56,
   "metadata": {
    "collapsed": true
   },
   "outputs": [],
   "source": [
    "def tokenize_lemma(text):\n",
    "    return [w.lemma_ for w in nlp(text)]"
   ]
  },
  {
   "cell_type": "code",
   "execution_count": 57,
   "metadata": {
    "collapsed": false
   },
   "outputs": [
    {
     "data": {
      "text/plain": [
       "Pipeline(steps=[('ColumnSelect', ColumnSelectTransformer(col_names=['reviewText'])), ('TfidfVectorizer', TfidfVectorizer(analyzer='word', binary=False, decode_error='strict',\n",
       "        dtype=<class 'numpy.int64'>, encoding='utf-8', input='content',\n",
       "        lowercase=True, max_df=1.0, max_features=None, min_df=...it_intercept=True, max_iter=None,\n",
       "   normalize=False, random_state=None, solver='auto', tol=0.001))])"
      ]
     },
     "execution_count": 57,
     "metadata": {},
     "output_type": "execute_result"
    }
   ],
   "source": [
    "from sklearn.pipeline import Pipeline\n",
    "from sklearn.linear_model import LinearRegression, RidgeCV, Ridge\n",
    "from sklearn.feature_extraction.text import HashingVectorizer, TfidfVectorizer\n",
    "from spacy.en.language_data import STOP_WORDS\n",
    "\n",
    "bag_of_words_est = Pipeline([\n",
    "    ('ColumnSelect', ColumnSelectTransformer(['reviewText'])),\n",
    "    #Vectorizer\n",
    "    ('TfidfVectorizer', TfidfVectorizer(ngram_range=(1,2), \n",
    "                                        stop_words=STOP_WORDS,\n",
    "                                        tokenizer=tokenize_lemma\n",
    "                                            )),\n",
    "    #Regressor\n",
    "    ('Ridge', Ridge())\n",
    "])\n",
    "\n",
    "bag_of_words_est.fit(sample_data_train, sample_ratings_train)"
   ]
  },
  {
   "cell_type": "code",
   "execution_count": 58,
   "metadata": {
    "collapsed": false
   },
   "outputs": [
    {
     "data": {
      "text/plain": [
       "0.45537222802678212"
      ]
     },
     "execution_count": 58,
     "metadata": {},
     "output_type": "execute_result"
    }
   ],
   "source": [
    "bag_of_words_est.predict(sample_data_test)\n",
    "bag_of_words_est.score(sample_data_test, sample_ratings_test)"
   ]
  },
  {
   "cell_type": "code",
   "execution_count": null,
   "metadata": {
    "collapsed": true
   },
   "outputs": [],
   "source": []
  }
 ],
 "metadata": {
  "kernelspec": {
   "display_name": "Python [conda env:python3]",
   "language": "python",
   "name": "conda-env-python3-py"
  },
  "language_info": {
   "codemirror_mode": {
    "name": "ipython",
    "version": 3
   },
   "file_extension": ".py",
   "mimetype": "text/x-python",
   "name": "python",
   "nbconvert_exporter": "python",
   "pygments_lexer": "ipython3",
   "version": "3.5.2"
  }
 },
 "nbformat": 4,
 "nbformat_minor": 2
}
